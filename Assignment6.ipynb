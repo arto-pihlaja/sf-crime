{
 "cells": [
  {
   "cell_type": "markdown",
   "metadata": {},
   "source": [
    "# Park carefully in San Fransisco\n",
    "Car prowl is the most common type of crime reported in San Fransisco, so be mindful. Car prowlers don't take days off, but they sleep at night. \n",
    "\n",
    "\n",
    "# Background\n",
    "This is an exploration into San Fransisco crime, based on police reports between June 1 and August 31, 2014. After some analysis with R and Tableau, car prowl turned out to be the most interesting subject of study. \n",
    "<img src =\"SfByCategory.png\" >\n",
    "Larceny/Theft is by far the biggest category, and most of them involve a car.\n",
    "<img src =\"SfTheftByDescr.png\" >\n",
    "Other offences is quite dispersed (cutting of the long tail with frequency < 50).\n",
    "<img src =\"SfOtherByDescr.png\" > \n",
    "\n",
    "Car prowl is the biggest type of crime in Seattle, too.\n",
    "\n",
    "Aggregate analysis of crime in general didn't result into much insight. During the period of observation, various crime types seemed to correlate with each other. They took place in the same weekdays, hours of day and districts, or had too few observations to make meaningful conclusions. Also, the overall number of reports in San Fransisco and Seattle showed no drastic trends, even though the period of observation was short and covered the summer months. \n",
    "<img src =\"SfSeaTrendByDate.png\" >\n",
    "\n",
    "# Definition of car prowl\n",
    "For information, see for instance <a href=\"http://www.seattle.gov/police/prevention/auto/carprowl.htm\" >Seattle Police Department.</a> \n",
    "In San Fransisco, car prowl has been recorded under Larceny/Theft, with description Grand/Petty Theft from Locked/Unlocked Auto or Attempted Theft from Locked/Unlocked Auto.\n",
    "In Seattle, car prowl has been recorded as Theft - Carprowl.\n",
    "\n",
    "\n",
    "# An increase of car prowl in summer\n",
    "Even though the aggregate number of reported crime is almost at level during summer, the number of car prowl incidents shows a significant slope. \n",
    "<img src =\"SfByDateCarProwl.png\" >.\n",
    "The number of incidents is surprisingly evenly distributed over the days of the week. Apparently, car prowlers don't take weekends off.\n",
    "<img src =\"SfByWkDayCarProwl.png\" >.\n",
    "\n",
    "# Where there's people, there's crime\n",
    "At an aggregate level, we see that reported incidents are concentrated in the central areas of San Fransisco. White collar crime like bribery, fraud and counterfeiting, and blue collar crime such as assault and robbery take place in the same areas. \n",
    "<img src =\"SfMapAll.png\" >.\n",
    "Car prowl is no exception.\n",
    "<img src =\"SfMapCar.png\" >.\n",
    "How does this match with some key demographics? The hot areas are the same as with population density.\n",
    "Perhaps surprisingly, crimes seem to take place in high income ares, rather than low income areas.\n",
    "<img src =\"SfPerCapitaIncome.png\" >\n",
    "\n",
    "Sources: www.sustainablecommunitiesindex.org , www.sfindicatorproject.org \n",
    "\n",
    "# Study methods\n",
    "## R\n",
    "First, I got feel of the data and did some formatting with R for further use with Tableau."
   ]
  },
  {
   "cell_type": "code",
   "execution_count": 3,
   "metadata": {
    "collapsed": false
   },
   "outputs": [
    {
     "name": "stdout",
     "output_type": "stream",
     "text": [
      "'data.frame':\t28993 obs. of  13 variables:\n",
      " $ IncidntNum: int  140734311 140736317 146177923 146177531 140734220 140734349 140734349 140734349 140738147 140734258 ...\n",
      " $ Category  : Factor w/ 34 levels \"ARSON\",\"ASSAULT\",..: 1 20 16 16 20 7 7 6 21 30 ...\n",
      " $ Descript  : Factor w/ 368 levels \"ABANDONMENT OF CHILD\",..: 15 179 143 143 132 247 239 93 107 347 ...\n",
      " $ DayOfWeek : Factor w/ 7 levels \"Friday\",\"Monday\",..: 4 4 4 4 4 4 4 4 4 4 ...\n",
      " $ Date      : POSIXlt, format: \"2014-08-31\" \"2014-08-31\" ...\n",
      " $ Time      : Factor w/ 1379 levels \"00:01\",\"00:02\",..: 1370 1365 1351 1351 1344 1334 1334 1334 1321 1321 ...\n",
      " $ PdDistrict: Factor w/ 10 levels \"BAYVIEW\",\"CENTRAL\",..: 1 4 8 7 7 8 8 8 3 2 ...\n",
      " $ Resolution: Factor w/ 16 levels \"ARREST, BOOKED\",..: 12 12 12 12 12 1 1 1 12 2 ...\n",
      " $ Address   : Factor w/ 8055 levels \"0 Block of 10TH ST\",..: 6843 4022 1098 6111 5096 1263 1263 1263 1575 5236 ...\n",
      " $ X         : num  -122 -122 -122 -122 -123 ...\n",
      " $ Y         : num  37.7 37.8 37.8 37.8 37.8 ...\n",
      " $ Location  : Factor w/ 8732 levels \"(37.7080829769301, -122.419241455854)\",..: 1970 3730 5834 4802 4777 4993 4993 4993 2543 7598 ...\n",
      " $ PdId      : num  1.41e+13 1.41e+13 1.46e+13 1.46e+13 1.41e+13 ...\n"
     ]
    }
   ],
   "source": [
    "loadCsv <- function(){\n",
    "sf.df <- read.csv(\"C:\\\\Users\\\\setup\\\\Documents/coursera/uw/datascience/assignment6/sanfrancisco_incidents_summer_2014.csv\", sep=\",\")\n",
    "sf.df\n",
    "}\n",
    "sf.df <- loadCsv()\n",
    "convert.dates <- function(sf.df){\n",
    "    sf.df$Date <- strptime(sf.df$Date, format=\"%m/%d/%Y\")\n",
    "    sf.df\n",
    "}\n",
    "sf.df <- convert.dates(sf.df)\n",
    "str(sf.df)"
   ]
  },
  {
   "cell_type": "markdown",
   "metadata": {},
   "source": [
    "## Tableau\n",
    "I used the Tableau free test license to explore Tableau and the data. The full Tableau workbook is linked <a src=\"Assignment6.ipynb\" >here</a>.\n",
    "\n",
    "Total crime per population.\n",
    "Population\n",
    "\n",
    "<a href = \"https://suburbanstats.org/population/california/how-many-people-live-in-san-francisco\">San Fransisco 805,000</a>\n",
    "<a href = \"https://suburbanstats.org/population/washington/how-many-people-live-in-seattle\">Seattle 609,000</a>"
   ]
  },
  {
   "cell_type": "markdown",
   "metadata": {},
   "source": []
  }
 ],
 "metadata": {
  "kernelspec": {
   "display_name": "R",
   "language": "R",
   "name": "ir"
  },
  "language_info": {
   "codemirror_mode": "r",
   "file_extension": ".r",
   "mimetype": "text/x-r-source",
   "name": "R",
   "pygments_lexer": "r",
   "version": "3.2.3"
  }
 },
 "nbformat": 4,
 "nbformat_minor": 0
}

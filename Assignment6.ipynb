{
 "cells": [
  {
   "cell_type": "markdown",
   "metadata": {},
   "source": [
    "# Introduction\n",
    "OK, let's get started. Testing out this Jupyter notebook.\n",
    "First, let's load the data from a local file, do some formatting, and get a feel of the data."
   ]
  },
  {
   "cell_type": "code",
   "execution_count": 3,
   "metadata": {
    "collapsed": false
   },
   "outputs": [
    {
     "name": "stdout",
     "output_type": "stream",
     "text": [
      "'data.frame':\t28993 obs. of  13 variables:\n",
      " $ IncidntNum: int  140734311 140736317 146177923 146177531 140734220 140734349 140734349 140734349 140738147 140734258 ...\n",
      " $ Category  : Factor w/ 34 levels \"ARSON\",\"ASSAULT\",..: 1 20 16 16 20 7 7 6 21 30 ...\n",
      " $ Descript  : Factor w/ 368 levels \"ABANDONMENT OF CHILD\",..: 15 179 143 143 132 247 239 93 107 347 ...\n",
      " $ DayOfWeek : Factor w/ 7 levels \"Friday\",\"Monday\",..: 4 4 4 4 4 4 4 4 4 4 ...\n",
      " $ Date      : POSIXlt, format: \"2014-08-31\" \"2014-08-31\" ...\n",
      " $ Time      : Factor w/ 1379 levels \"00:01\",\"00:02\",..: 1370 1365 1351 1351 1344 1334 1334 1334 1321 1321 ...\n",
      " $ PdDistrict: Factor w/ 10 levels \"BAYVIEW\",\"CENTRAL\",..: 1 4 8 7 7 8 8 8 3 2 ...\n",
      " $ Resolution: Factor w/ 16 levels \"ARREST, BOOKED\",..: 12 12 12 12 12 1 1 1 12 2 ...\n",
      " $ Address   : Factor w/ 8055 levels \"0 Block of 10TH ST\",..: 6843 4022 1098 6111 5096 1263 1263 1263 1575 5236 ...\n",
      " $ X         : num  -122 -122 -122 -122 -123 ...\n",
      " $ Y         : num  37.7 37.8 37.8 37.8 37.8 ...\n",
      " $ Location  : Factor w/ 8732 levels \"(37.7080829769301, -122.419241455854)\",..: 1970 3730 5834 4802 4777 4993 4993 4993 2543 7598 ...\n",
      " $ PdId      : num  1.41e+13 1.41e+13 1.46e+13 1.46e+13 1.41e+13 ...\n"
     ]
    }
   ],
   "source": [
    "loadCsv <- function(){\n",
    "sf.df <- read.csv(\"C:\\\\Users\\\\setup\\\\Documents/coursera/uw/datascience/assignment6/sanfrancisco_incidents_summer_2014.csv\", sep=\",\")\n",
    "sf.df\n",
    "}\n",
    "sf.df <- loadCsv()\n",
    "convert.dates <- function(sf.df){\n",
    "    sf.df$Date <- strptime(sf.df$Date, format=\"%m/%d/%Y\")\n",
    "    sf.df\n",
    "}\n",
    "sf.df <- convert.dates(sf.df)\n",
    "str(sf.df)"
   ]
  },
  {
   "cell_type": "markdown",
   "metadata": {},
   "source": [
    "#Tableau explorations\n",
    "I used the Tableau free test license to explore Tableau and the data. The full Tableau workbook is linked here.\n",
    "First, let's see how much of each category we have.\n",
    "<img src =\"SfByCategory.png\" >\n",
    "Larceny/Theft is by far the biggest category, followed by Other offences. Let's see what they hold by description.\n",
    "<img src =\"SfOtherByDescr.png\" > \n",
    "a map where each incident is plotted and distinguished by crime category. It's obvious that reported crime is concentrated in some central areas. However, when all categories are plotted on top of each other, it's hard to distinguish them. Here, Tableau's interactive filters provide a great experience. \n",
    "\n",
    "Total crime per population.\n",
    "Population\n",
    "\n",
    "<a href = \"https://suburbanstats.org/population/california/how-many-people-live-in-san-francisco\">San Fransisco 805,000</a>\n",
    "<a href = \"https://suburbanstats.org/population/washington/how-many-people-live-in-seattle\">Seattle 609,000</a>"
   ]
  },
  {
   "cell_type": "markdown",
   "metadata": {},
   "source": [
    "<img src=\"https://drive.google.com/open?id=0B2Z7HAwwQW4KM24takZpeW9COG8\" />\n",
    "<img src=\"SfAssaultDrug.png\" />"
   ]
  }
 ],
 "metadata": {
  "kernelspec": {
   "display_name": "R",
   "language": "R",
   "name": "ir"
  },
  "language_info": {
   "codemirror_mode": "r",
   "file_extension": ".r",
   "mimetype": "text/x-r-source",
   "name": "R",
   "pygments_lexer": "r",
   "version": "3.2.3"
  }
 },
 "nbformat": 4,
 "nbformat_minor": 0
}
